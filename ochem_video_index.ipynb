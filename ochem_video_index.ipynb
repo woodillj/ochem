{
 "cells": [
  {
   "cell_type": "markdown",
   "metadata": {},
   "source": [
    "# Video Lecture Index\n",
    "***"
   ]
  },
  {
   "cell_type": "markdown",
   "metadata": {},
   "source": [
    "***\n",
    "## VIDEO DATE: 3-16-2020"
   ]
  },
  {
   "cell_type": "markdown",
   "metadata": {},
   "source": [
    "### 3-16-2020: AM"
   ]
  },
  {
   "cell_type": "markdown",
   "metadata": {},
   "source": [
    "### 3-16-2020: PM"
   ]
  },
  {
   "cell_type": "markdown",
   "metadata": {},
   "source": [
    "***\n",
    "## VIDEO DATE: 3-18-2020"
   ]
  },
  {
   "cell_type": "markdown",
   "metadata": {},
   "source": [
    "|SECTION|TIME|\n",
    "|-------|----|\n",
    "| LAB 4 | 00:02:44 |\n",
    "| STEREOISOMER FLOW CHART | 00:26:44 |"
   ]
  },
  {
   "cell_type": "markdown",
   "metadata": {},
   "source": [
    "***\n",
    "## VIDEO DATE: 3-23-2020"
   ]
  },
  {
   "cell_type": "markdown",
   "metadata": {},
   "source": [
    "### 3-23-2020: AM"
   ]
  },
  {
   "cell_type": "markdown",
   "metadata": {},
   "source": [
    "|SECTION|TIME|\n",
    "|-------|----|\n",
    "| **6.1** ENTHALPY | 00:17:54 |\n",
    "| **6.1** BOND DISSOCIATION ENERGY | 00:24:06 |\n",
    "| **6.1** ENTHALPY | 00:29:00 |\n",
    "| **6.2** ENTROPY | 00:38:08 |\n",
    "| **6.4** EQUILIBRIA | 00:43:13 |\n",
    "| **6.5** KINETICS | 00:45:57 |\n",
    "| **6.7** NUCLEOPHILES & ELECTROPHILES | 00:49:09 |\n",
    "| **6.7** NUCLEOPHILES | 00:53:07 |\n",
    "| **6.7** ELECTROPHILES | 00:55:29 |\n",
    "| PROBLEM SET D | 01:04:54 |"
   ]
  },
  {
   "cell_type": "markdown",
   "metadata": {},
   "source": [
    "### 3-23-2020: PM (1 OF 2)"
   ]
  },
  {
   "cell_type": "markdown",
   "metadata": {},
   "source": [
    "|SECTION|TIME|\n",
    "|-------|----|\n",
    "| **IR SPECTROSCOPY** | 00:01:34 |"
   ]
  },
  {
   "cell_type": "markdown",
   "metadata": {},
   "source": [
    "### 3-23-2020: PM (2 OF 2)"
   ]
  },
  {
   "cell_type": "markdown",
   "metadata": {},
   "source": [
    "|SECTION|TIME|\n",
    "|-------|----|\n",
    "| **IR SPECTROSCOPY** | 00:00:19 |\n",
    "| **TABLE 14.2: IMPORTANT SIGNALS IN IR SPECTROSCOPY** | 00:33:43 |\n",
    "| PRACTICE PROBLEMS | 00:40:52 |"
   ]
  },
  {
   "cell_type": "markdown",
   "metadata": {},
   "source": [
    "***\n",
    "## VIDEO DATE: 3-30-2020"
   ]
  },
  {
   "cell_type": "markdown",
   "metadata": {},
   "source": [
    "### 3-30-2020: AM"
   ]
  },
  {
   "cell_type": "markdown",
   "metadata": {},
   "source": [
    "|SECTION|TIME|\n",
    "|-------|----|\n",
    "| PRACTICE PROBLEM - ENDERGONIC OR EXERGONIC? | 00:00:20 |\n",
    "| PRACTICE PROBLEM - NUCLEOPHILIC CENTERS | 00:05:48 |\n",
    "| PRACTICE PROBLEM - ARROW-PUSHING: LOSS OF LG | 00:11:12 |\n",
    "| PRACTICE PROBLEM - ARROW-PUSHING: NUCLEOPHILIC ATTACK | 00:13:40 |\n",
    "| PRACTICE PROBLEM - ARROW-PUSHING: PROTON TRANSSFERS | 00:16:51 |\n",
    "| **6.5** RATE EQUATIONS | 00:21:21 |\n",
    "| **6.5** KINETICS | 00:27:32 |\n",
    "| **6.5** RATE CONSTANT FACTORS | 00:31:28 |\n",
    "| **6.6** READING ENERGY DIAGRAMS | 00:48:39 |\n",
    "| **6.6** KINETICS VS THERMODYNAMICS | 00:52:29 |\n",
    "| PRACTICE PROBLEM - KINETIC PRODUCTS IN ENERGY DIAGRAM | 01:00:08 |\n",
    "| **6.6** COMPLEX MECHANISMS | 01:02:59 |\n",
    "| **6.6** TRANSITION STATES | 01:10:18 |\n",
    "| **6.6** INTERMEDIATES | 01:15:43 |\n",
    "| **6.11** CARBOCATION REARRANGEMENTS | 01:21:55 |\n",
    "| PRACTICE PROBLEM - CARBOCATION REARRANGEMENT | 01:42:04 |"
   ]
  },
  {
   "cell_type": "markdown",
   "metadata": {},
   "source": [
    "### 3-30-2020: PM (1 OF 2)"
   ]
  },
  {
   "cell_type": "markdown",
   "metadata": {},
   "source": [
    "|SECTION|TIME|\n",
    "|-------|----|\n",
    "| **IR SPECTROSCOPY** - PROBLEM SET-1 | 00:12:02 |\n",
    "| **IR SPECTROSCOPY** - PROBLEM SET-3 | 00:31:44 |\n",
    "| **IR SPECTROSCOPY** - PROBLEM SET-2 | 00:32:31 |\n",
    "| **MASS SPECTROMETRY** | 00:37:15 |\n",
    "| **14.8** INTRO TO MASS SPECTROMETRY | 00:49:01 |\n",
    "| **14.9** ANALYZING THE $(M)^{+\\cdot}$ PEAK | 00:58:48 |\n",
    "| **14.10** ANALYZING THE $(M + 1)^{+\\cdot}$ PEAK | 01:06:58 |\n",
    "| PRACTICE PROBLEM | 01:21:46 |\n",
    "| **14.10** ANALYZING THE $(M + 2)^{+\\cdot}$ PEAK | 01:27:01 |\n",
    "| PRACTICE PROBLEM | 01:32:44 |\n",
    "| **14.12** ANALYZING THE FRAGMENTS | 01:35:49 |\n",
    "| **14.13** HIGH-RESOLUTION MASS SPEC | 01:37:03 |\n",
    "| **14.16** DEGREES OF UNSATURATION | 01:38:39 |"
   ]
  },
  {
   "cell_type": "markdown",
   "metadata": {},
   "source": [
    "### 3-30-2020: PM (2 OF 2)"
   ]
  },
  {
   "cell_type": "markdown",
   "metadata": {},
   "source": [
    "|SECTION|TIME|\n",
    "|-------|----|\n",
    "| **6.11** CARBOCATIONS | 00:00:04 |\n",
    "| **7.1** INTRO TO AKLYL HALIDES | 00:04:45 |\n",
    "| **7.1** SUBSTITUTION & ELMINATION | 00:07:39 |\n",
    "| **6.12** REVERSIBLE & IRREVERSIBLE REACTIONS | 00:12:19 |\n",
    "| **7.1** LEAVING GROUPS | 00:22:24 |\n",
    "| **7.2** S<sub>N</sub>2 - REACTIONS | 00:27:22 |\n",
    "| **7.3** S<sub>N</sub>2 - BACKSIDE ATTACK | 00:33:35 |\n",
    "| **7.3** S<sub>N</sub>2 - KINETICS | 00:35:31 |\n",
    "| **7.4** S<sub>N</sub>2 - NUCLEOPHICITY | 00:37:53 |\n",
    "| PROBLEM SET E1 and E2 REVIEW | 00:43:32 |"
   ]
  },
  {
   "cell_type": "markdown",
   "metadata": {},
   "source": [
    "***\n",
    "## VIDEO DATE: 4-1-2020"
   ]
  },
  {
   "cell_type": "markdown",
   "metadata": {},
   "source": [
    "|SECTION|TIME|\n",
    "|-------|----|\n",
    "| **7.1** SUBSTITUTION & ELIMINATION | 00:00:04 |\n",
    "| **7.2** ALKYL HALIDES | 00:06:02 |\n",
    "| **7.2** ALKYL HALIDE LABELING | 00:15:23 |\n",
    "| **7.3** KINETIC DATA & RXN RATE | 00:21:24 |\n",
    "| **7.4** SOLVENT EFFECTS | 00:24:31 |\n",
    "| **7.6** E2 REACTIONS | 00:28:17 |\n",
    "| **7.7** ALKENE NOMENCLATURE | 00:35:06 |\n",
    "| **4.4** STABILITY OF ALKANES | 00:44:59 |\n",
    "| **7.7** STABILITY OF ALKENES | 00:48:44 |\n",
    "| **7.8** E2 REGIOSELECTIVITY | 00:52:57 |"
   ]
  },
  {
   "cell_type": "markdown",
   "metadata": {},
   "source": [
    "***\n",
    "## VIDEO DATE: 4-6-2020"
   ]
  },
  {
   "cell_type": "markdown",
   "metadata": {},
   "source": [
    "### 4-6-2020: AM"
   ]
  },
  {
   "cell_type": "markdown",
   "metadata": {},
   "source": [
    "|SECTION|TIME|\n",
    "|-------|----|\n",
    "| PRACTICE PROBLEM | 00:00:28 |\n",
    "| **7.6** E2 REACTIONS | 00:09:22 |\n",
    "| **7.8** STEREOSPECIFITY OF E2 | 00:10:44 |\n",
    "| **7.8** PRACTICE PROBLEMS - E2 REGIOSELECTIVITY | 01:17:59 |\n",
    "| **7.9** UNIMOLECULAR RXNS (S<sub>N</sub>1 & E1) | 00:50:40 |\n",
    "| **7.9** S<sub>N</sub>1/E1 REARRANGEMENTS | 01:25:50 |\n",
    "| **7.9** E1 PRODUCTS | 01:31:52 |\n",
    "| **7.9** S<sub>N</sub>1 - STEREOSELECTIVITY | 01:36:55 |\n",
    "| **7.11** FUNCTION OF THE REAGENT | 01:41:07 |"
   ]
  },
  {
   "cell_type": "markdown",
   "metadata": {},
   "source": [
    "### 4-6-2020: PM (1 OF 2)"
   ]
  },
  {
   "cell_type": "markdown",
   "metadata": {},
   "source": [
    "|SECTION|TIME|\n",
    "|-------|----|\n",
    "| IR SPECTROSCOPY - PROBLEM SET-3 | 00:03:21 |\n",
    "| **15.1** INTRO TO NMR SPECTROSCOPY | 00:12:05 |\n",
    "| **15.2** ACQUIRING HNMR SPECTRUM | 00:42:23 |\n",
    "| **15.3** FEATURES OF HNMR SPECTRUM | 00:55:15 |"
   ]
  },
  {
   "cell_type": "markdown",
   "metadata": {},
   "source": [
    "### 4-6-2020: PM (2 OF 2)"
   ]
  },
  {
   "cell_type": "markdown",
   "metadata": {},
   "source": [
    "|SECTION|TIME|\n",
    "|-------|----|\n",
    "| **15.3** FEATURES OF HNMR SPECTRUM (CONTINUED) | 00:00:08 |\n",
    "| **15.4** NUMBER OF SIGNALS | 00:00:34 |\n",
    "| PRACTICE PROBLEMS | 00:33:21 |\n",
    "| **15.5** CHEMICAL SHIFT | 00:44:50 |\n",
    "| **15.6** INTEGRATION | 01:05:55 |\n",
    "| PRACTICE PROBLEM | 01:14:58 |"
   ]
  },
  {
   "cell_type": "markdown",
   "metadata": {},
   "source": [
    "***\n",
    "## VIDEO DATE: 4-8-2020"
   ]
  },
  {
   "cell_type": "markdown",
   "metadata": {},
   "source": [
    "|SECTION|TIME|\n",
    "|-------|----|\n",
    "| **7.11** ANALYZE THE SUBSTRATE | 00:09:34 |\n",
    "| PRACTICE PROBLEMS | 00:37:04 |\n",
    "| **7.12** OTHER LG'S | 00:57:03 |\n",
    "| **7.13** SYNTHETIC STRATEGIES | 01:08:11 |"
   ]
  },
  {
   "cell_type": "markdown",
   "metadata": {},
   "source": [
    "***\n",
    "## VIDEO DATE: 4-20-2020"
   ]
  },
  {
   "cell_type": "markdown",
   "metadata": {},
   "source": [
    "### 4-20-2020: AM"
   ]
  },
  {
   "cell_type": "markdown",
   "metadata": {},
   "source": [
    "|SECTION|TIME|\n",
    "|-------|----|\n",
    "| **8.14** ADDITION REACTIONS (PREVIEW) | 00:10:59 |\n",
    "| **8.1** INTRO TO ADDITION REACTIONS | 00:13:20 |\n",
    "| **8.2** ALKENES IN NATURE AND INDUSTRY | 00:19:32 |\n",
    "| **8.3** ADDITION VS ELIMINATION | 00:27:33 |\n",
    "| **8.4** HYDROHAOLGENATION | 00:35:05 |\n",
    "| **8.4** HYDROHALOGENATION MECHANISM | 00:48:05 |\n",
    "| **8.5** ACID-CATALYZED HYDRATION | 00:56:17 |\n",
    "| **8.5** OXYMERCURATION/DEMURCURATION | 01:06:00 |\n",
    "| **8.7** HYDROBORATION-OXIDATION | 01:14:08 |\n",
    "| **8.8** CATALYTIC HYDROGENATION | 01:27:08 |\n",
    "| **8.9** HALOGENATION | 01:33:33 |"
   ]
  },
  {
   "cell_type": "markdown",
   "metadata": {},
   "source": [
    "### 4-20-2020: PM"
   ]
  },
  {
   "cell_type": "markdown",
   "metadata": {},
   "source": [
    "|SECTION|TIME|\n",
    "|-------|----|\n",
    "| **NMR** WARM-UP | 00:04:41 |\n",
    "| **NMR** PROBLEM SET-3 | 00:08:43 |\n",
    "| **15.7** MULTIPLICTY | 00:21:52 |\n",
    "| **15.7** MULTIPLICTY RULES | 00:44:55 |\n",
    "| **15.7** MULTIPLICTY PATTERNS | 00:51:04 |\n",
    "| **NMR** PROBLEM SET-3 (CONTINUED) | 01:01:22 |\n",
    "| **15.7** MULTIPLICTY (H-BOND EXCEPTION) | 01:28:46 |\n",
    "| **NMR** PRACTICE PROBLEMS | 01:40:32 |\n",
    "| **15.11** ACQUIRING A <sup>13</sup>C NMR SPECTRUM | 01:56:16 |\n",
    "| **15.12** CHEMICAL SHIFTS IN <sup>13</sup>C NMR | 02:01:33 |\n",
    "| <sup>13</sup>C NMR PRACTICE PROBLEMS | 02:17:17 |"
   ]
  },
  {
   "cell_type": "markdown",
   "metadata": {},
   "source": [
    "***\n",
    "## VIDEO DATE:  4-22-2020"
   ]
  },
  {
   "cell_type": "markdown",
   "metadata": {},
   "source": [
    "|SECTION|TIME|\n",
    "|-------|----|\n",
    "| **8.9** HALOGENATION | 00:11:31 |\n",
    "| **9.1** ALKYNES IN INDUSTRY & NATURE | 01:14:19 |\n",
    "| **9.2** NOMENCLATURE OF ALKYNES | 01:17:24 |\n",
    "| **9.3** ACIDITY OF TERMINAL ALKYNES | 01:22:59 |"
   ]
  },
  {
   "cell_type": "markdown",
   "metadata": {},
   "source": [
    "***\n",
    "## VIDEO DATE:  4-27-2020"
   ]
  },
  {
   "cell_type": "markdown",
   "metadata": {},
   "source": [
    "### 4-27-2020: AM"
   ]
  },
  {
   "cell_type": "markdown",
   "metadata": {},
   "source": [
    "|SECTION|TIME|\n",
    "|-------|----|\n",
    "| **9.3** ACIDITY OF TERMINAL ALKYNES | 00:27:27 |\n",
    "| **9.4** PREPARATION OF ALKYNES | 00:44:21 |\n",
    "| **9.5** REDUCTION OF ALKYNES | 01:02:08 |\n",
    "| **9.6** HYDROHALOGENATION OF ALKYNES | 01:20:41 |\n",
    "| **9.6** DIHALIDE/ALKYNE INTERCONVERSION | 01:30:49 |\n",
    "| **9.7** HYDRATION OF ALKYNES | 01:33:49 |\n",
    "| **9.7** HYDROBORATION OXIDATION | 01:44:04 |"
   ]
  },
  {
   "cell_type": "markdown",
   "metadata": {},
   "source": [
    "### 4-27-2020: PM (1 OF 2)"
   ]
  },
  {
   "cell_type": "markdown",
   "metadata": {},
   "source": [
    "|SECTION|TIME|\n",
    "|-------|----|\n",
    "| CH-9 PRACTICE PROBLEMS | 00:01:24 |\n",
    "| **9.8** HALOGENATION OF ALKYNES | 00:05:37 |\n",
    "| **9.9** OZONOLYSIS OF ALKYNES | 00:13:03 |\n",
    "| **9.10** ALKYLATION OF ALKYNES | 00:24:02 |\n",
    "| PRACTICE PROBLEMS | 00:30:24 |"
   ]
  },
  {
   "cell_type": "markdown",
   "metadata": {},
   "source": [
    "### 4-27-2020: PM (2 OF 2)"
   ]
  },
  {
   "cell_type": "markdown",
   "metadata": {},
   "source": [
    "|SECTION|TIME|\n",
    "|-------|----|\n",
    "| **SPECTROSCOPY** PROBLEM-SOLVING **HOUR 1** | 00:00:00 |"
   ]
  },
  {
   "cell_type": "markdown",
   "metadata": {},
   "source": [
    "***\n",
    "## VIDEO DATE: 4-28-2020"
   ]
  },
  {
   "cell_type": "markdown",
   "metadata": {},
   "source": [
    "|SECTION|TIME|\n",
    "|-------|----|\n",
    "| **SPECTROSCOPY** PROBLEM-SOLVING **HOUR 2** | 00:00:00 |"
   ]
  },
  {
   "cell_type": "markdown",
   "metadata": {},
   "source": [
    "***\n",
    "## VIDEO DATE: 4-29-20"
   ]
  },
  {
   "cell_type": "markdown",
   "metadata": {},
   "source": [
    "|SECTION|TIME|\n",
    "|-------|----|\n",
    "| PRACTICE PROBLEM - ORDER OF REAGENTS | 00:16:57 |\n",
    "| PRACTICE PROBLEN - APPROPRIATE SET OF REAGENTS | 00:26:15 |\n",
    "| **10.1** RADICALS - INTRODUCTION | 00:38:36 |\n",
    "| **10.1** FREE RADICAL STABILITY | 00:43:09 |\n",
    "| PRACTICE PROBLEM - FISHHOOK ARROWS | 00:57:49 |\n",
    "| PRACTICE PROBLEM - RANKING STRENGTH OF C-H BONDS | 00:59:46 |\n",
    "| PRACTICE PROBLEM - RESONANCE STRUCTURES FOR RADICALS | 01:09:32 |\n",
    "| **10.2** PATTERNS IN RADICAL MECHANISMS | 01:10:25 |\n",
    "| PRACTICE PROBLEMS | 01:26:45 |\n",
    "| **10.3** RADICAL INITIATORS | 01:35:07 |"
   ]
  }
 ],
 "metadata": {
  "kernelspec": {
   "display_name": "Python 3",
   "language": "python",
   "name": "python3"
  },
  "language_info": {
   "codemirror_mode": {
    "name": "ipython",
    "version": 3
   },
   "file_extension": ".py",
   "mimetype": "text/x-python",
   "name": "python",
   "nbconvert_exporter": "python",
   "pygments_lexer": "ipython3",
   "version": "3.7.7"
  },
  "varInspector": {
   "cols": {
    "lenName": 16,
    "lenType": 16,
    "lenVar": 40
   },
   "kernels_config": {
    "python": {
     "delete_cmd_postfix": "",
     "delete_cmd_prefix": "del ",
     "library": "var_list.py",
     "varRefreshCmd": "print(var_dic_list())"
    },
    "r": {
     "delete_cmd_postfix": ") ",
     "delete_cmd_prefix": "rm(",
     "library": "var_list.r",
     "varRefreshCmd": "cat(var_dic_list()) "
    }
   },
   "types_to_exclude": [
    "module",
    "function",
    "builtin_function_or_method",
    "instance",
    "_Feature"
   ],
   "window_display": false
  }
 },
 "nbformat": 4,
 "nbformat_minor": 4
}
