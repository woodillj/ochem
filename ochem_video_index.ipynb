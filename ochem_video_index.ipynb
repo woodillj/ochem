{
 "cells": [
  {
   "cell_type": "markdown",
   "metadata": {},
   "source": [
    "# Video Lecture Index\n",
    "***"
   ]
  },
  {
   "cell_type": "markdown",
   "metadata": {},
   "source": [
    "***\n",
    "## VIDEO DATE:  4-22-2020"
   ]
  },
  {
   "cell_type": "markdown",
   "metadata": {},
   "source": [
    "|SECTION|TIME|\n",
    "|-------|----|\n",
    "| **9.1** ALKYNES IN INDUSTRY & NATURE | 01:14:19 |\n",
    "| **9.2** NOMENCLATURE OF ALKYNES | 01:17:24 |\n",
    "| **9.3** ACIDITY OF TERMINAL ALKYNES | 01:22:59 |"
   ]
  },
  {
   "cell_type": "markdown",
   "metadata": {},
   "source": [
    "***\n",
    "## VIDEO DATE:  4-27-2020"
   ]
  },
  {
   "cell_type": "markdown",
   "metadata": {},
   "source": [
    "### AM"
   ]
  },
  {
   "cell_type": "markdown",
   "metadata": {},
   "source": [
    "|SECTION|TIME|\n",
    "|-------|----|\n",
    "| **9.3** ACIDITY OF TERMINAL ALKYNES | 00:27:27 |\n",
    "| **9.4** PREPARATION OF ALKYNES | 00:44:21 |\n",
    "| **9.5** REDUCTION OF ALKYNES | 01:02:08 |\n",
    "| **9.6** HYDROHALOGENATION OF ALKYNES | 01:20:41 |\n",
    "| **9.6** DIHALIDE/ALKYNE INTERCONVERSION | 01:30:49 |\n",
    "| **9.7** HYDRATION OF ALKYNES | 01:33:49 |\n",
    "| **9.7** HYDROBORATION OXIDATION | 01:44:04 |"
   ]
  },
  {
   "cell_type": "markdown",
   "metadata": {},
   "source": [
    "### PM (1 OF 2)"
   ]
  },
  {
   "cell_type": "markdown",
   "metadata": {},
   "source": [
    "|SECTION|TIME|\n",
    "|-------|----|\n",
    "| CH-9 PRACTICE PROBLEMS | 00:01:24 |\n",
    "| **9.8** HALOGENATION OF ALKYNES | 00:05:37 |\n",
    "| **9.9** OZONOLYSIS OF ALKYNES | 00:13:03 |\n",
    "| **9.10** ALKYLATION OF ALKYNES | 00:24:02 |"
   ]
  },
  {
   "cell_type": "markdown",
   "metadata": {},
   "source": [
    "### PM (2 OF 2)"
   ]
  },
  {
   "cell_type": "markdown",
   "metadata": {},
   "source": [
    "|SECTION|TIME|\n",
    "|-------|----|\n",
    "| PRACTICE PROBLEM | 00:17:24 |\n",
    "| PRACTICE PROBLEM | 00:26:07 |"
   ]
  }
 ],
 "metadata": {
  "kernelspec": {
   "display_name": "Python 3",
   "language": "python",
   "name": "python3"
  },
  "language_info": {
   "codemirror_mode": {
    "name": "ipython",
    "version": 2
   },
   "file_extension": ".py",
   "mimetype": "text/x-python",
   "name": "python",
   "nbconvert_exporter": "python",
   "pygments_lexer": "ipython2",
   "version": "2.7.17"
  },
  "varInspector": {
   "cols": {
    "lenName": 16,
    "lenType": 16,
    "lenVar": 40
   },
   "kernels_config": {
    "python": {
     "delete_cmd_postfix": "",
     "delete_cmd_prefix": "del ",
     "library": "var_list.py",
     "varRefreshCmd": "print(var_dic_list())"
    },
    "r": {
     "delete_cmd_postfix": ") ",
     "delete_cmd_prefix": "rm(",
     "library": "var_list.r",
     "varRefreshCmd": "cat(var_dic_list()) "
    }
   },
   "types_to_exclude": [
    "module",
    "function",
    "builtin_function_or_method",
    "instance",
    "_Feature"
   ],
   "window_display": false
  }
 },
 "nbformat": 4,
 "nbformat_minor": 4
}
